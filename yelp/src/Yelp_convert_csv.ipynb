{
 "cells": [
  {
   "cell_type": "code",
   "execution_count": 1,
   "metadata": {
    "collapsed": true
   },
   "outputs": [],
   "source": [
    "# Convert Yelp Data Challenge streaming JSON files into CSV\n",
    "\n",
    "import json\n",
    "import csv\n",
    "\n",
    "YELP_REVIEW_FILE = \"../data/yelp_academic_dataset_review.json\"\n",
    "YELP_TIP_FILE = \"../data/yelp_academic_dataset_tip.json\"\n",
    "YELP_USER_FILE = \"../data/yelp_academic_dataset_user.json\"\n",
    "YELP_CHECKIN_FILE = \"../data/yelp_academic_dataset_checkin.json\"\n",
    "YELP_BUSINESS_FILE = \"../data/yelp_academic_dataset_business.json\"\n",
    "\n",
    "files = [YELP_REVIEW_FILE, YELP_TIP_FILE, YELP_USER_FILE, YELP_CHECKIN_FILE, YELP_BUSINESS_FILE]\n"
   ]
  },
  {
   "cell_type": "code",
   "execution_count": 2,
   "metadata": {
    "collapsed": true
   },
   "outputs": [],
   "source": [
    "def convertForLoadCSV(files):\n",
    "    for json_file in files:\n",
    "        with open(json_file, \"r\") as file:\n",
    "            with open(json_file + '.csv', 'w') as csvfile:\n",
    "                writer = csv.writer(csvfile, escapechar='\\\\', quotechar='\"', quoting=csv.QUOTE_ALL)\n",
    "                writer.writerow(json.loads(file.readline()).keys())\n",
    "                for line in file:\n",
    "                    l = []\n",
    "                    item = json.loads(line)\n",
    "                    for k,i in item.items():\n",
    "                        # Represent a list of items as a semicolon delimitted string\n",
    "                        if type(i) == list:\n",
    "                            l.append(';'.join(i))\n",
    "                        # Aggressive quoting and escape char handling\n",
    "                        if type(i) == str:\n",
    "                            l.append(i.replace('\"', '').replace('\\\\', ''))\n",
    "                        else:\n",
    "                            l.append(i)\n",
    "                    writer.writerow(l)"
   ]
  },
  {
   "cell_type": "code",
   "execution_count": 3,
   "metadata": {
    "collapsed": true
   },
   "outputs": [],
   "source": [
    "def convertForNeo4jImport():\n",
    "    # Create User csv file and FRIENDS relationship csv\n",
    "    count = 0\n",
    "    with open(YELP_USER_FILE, 'r') as file:\n",
    "        # open user node file\n",
    "        with open('../data/import/user.csv', 'w') as csvfile:\n",
    "            writer = csv.writer(csvfile, escapechar='\\\\', quotechar='\"', quoting=csv.QUOTE_ALL)\n",
    "            writer.writerow([':ID(User)', ':LABEL', 'name'])\n",
    "            with open('../data/import/friends.csv', 'w') as friendscsv:\n",
    "                friendwriter = csv.writer(friendscsv, escapechar='\\\\', quotechar='\"', quoting=csv.QUOTE_ALL)\n",
    "                friendwriter.writerow([\":START_ID(User)\", \":END_ID(User)\", \":TYPE\"])\n",
    "                for line in file:\n",
    "                    item = json.loads(line)\n",
    "                    writer.writerow([item['user_id'], \"User\", item['name']])\n",
    "                    for friend in item['friends']:\n",
    "                        friendwriter.writerow([item['user_id'], friend, 'FRIENDS'])\n",
    "                    \n",
    "    # Create Business csv file\n",
    "    with open(YELP_BUSINESS_FILE, 'r') as file:\n",
    "        #count = 0\n",
    "        with open('../data/import/business.csv', 'w') as csvfile:\n",
    "            writer = csv.writer(csvfile, escapechar='\\\\', quotechar='\"', quoting=csv.QUOTE_ALL)\n",
    "            writer.writerow([':ID(Business)', ':LABEL', 'name'])\n",
    "            for line in file:\n",
    "                item = json.loads(line)\n",
    "                try:\n",
    "                    writer.writerow([item['business_id'], 'Business', item['name']])\n",
    "                except Exception as e:\n",
    "                    print(item)\n",
    "                    throw(e)\n",
    "                \n",
    "                \n",
    "    # Create Review csv file, WROTE relationship csv, \n",
    "    with open(YELP_REVIEW_FILE, 'r') as file:\n",
    "        with open('../data/import/review.csv', 'w') as csvfile:\n",
    "            writer = csv.writer(csvfile, escapechar=\"\\\\\", quotechar='\"', quoting=csv.QUOTE_ALL)\n",
    "            writer.writerow([':ID(Review)', ':LABEL', 'stars:int', 'text'])\n",
    "            \n",
    "            with open('../data/import/wrote.csv', 'w') as wrotefile:\n",
    "                wrotewriter = csv.writer(wrotefile, escapechar=\"\\\\\", quotechar='\"', quoting=csv.QUOTE_ALL)\n",
    "                wrotewriter.writerow([':START_ID(User)', ':END_ID(Review)', ':TYPE'])\n",
    "                \n",
    "                with open('../data/import/review_of.csv', 'w') as review_of_file:\n",
    "                    reviewwriter = csv.writer(review_of_file,  escapechar=\"\\\\\", quotechar='\"', quoting=csv.QUOTE_ALL)\n",
    "                    reviewwriter.writerow([':START_ID(Review)', ':END_ID(Business)', ':TYPE'])\n",
    "                \n",
    "                    for line in file:\n",
    "                        item = json.loads(line)\n",
    "                        # (:Review {review_id, stars, text})\n",
    "                        writer.writerow([item['review_id'], 'Review', item['stars'], item['text'].replace('\\n', ' ').replace('\"', '').replace('\\\\', '')])\n",
    "                        \n",
    "                        # (User)-[:WROTE]->(:Review)\n",
    "                        wrotewriter.writerow([item['user_id'], item['review_id'], 'WROTE'])\n",
    "\n",
    "                        # (:Review)-[:REVIEW_OF]->(:Business)\n",
    "                        reviewwriter.writerow([item['review_id'], item['business_id'], 'REVIEW_OF'])\n"
   ]
  },
  {
   "cell_type": "code",
   "execution_count": null,
   "metadata": {
    "collapsed": true
   },
   "outputs": [],
   "source": [
    "convertForLoadCSV()"
   ]
  },
  {
   "cell_type": "code",
   "execution_count": null,
   "metadata": {
    "collapsed": true
   },
   "outputs": [],
   "source": [
    "convertForNeo4jImport()"
   ]
  }
 ],
 "metadata": {
  "kernelspec": {
   "display_name": "Python 3",
   "language": "python",
   "name": "python3"
  },
  "language_info": {
   "codemirror_mode": {
    "name": "ipython",
    "version": 3
   },
   "file_extension": ".py",
   "mimetype": "text/x-python",
   "name": "python",
   "nbconvert_exporter": "python",
   "pygments_lexer": "ipython3",
   "version": "3.6.0"
  }
 },
 "nbformat": 4,
 "nbformat_minor": 2
}
