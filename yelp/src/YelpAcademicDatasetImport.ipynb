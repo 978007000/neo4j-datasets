{
 "cells": [
  {
   "cell_type": "code",
   "execution_count": 1,
   "metadata": {
    "collapsed": false
   },
   "outputs": [],
   "source": [
    "from py2neo import Graph\n",
    "import json"
   ]
  },
  {
   "cell_type": "code",
   "execution_count": 2,
   "metadata": {
    "collapsed": true
   },
   "outputs": [],
   "source": [
    "YELP_REVIEW_FILE = \"../data/yelp_academic_dataset_review.json\"\n",
    "YELP_TIP_FILE = \"../data/yelp_academic_dataset_tip.json\"\n",
    "YELP_USER_FILE = \"../data/yelp_academic_dataset_user.json\"\n",
    "YELP_CHECKIN_FILE = \"../data/yelp_academic_dataset_checkin.json\"\n",
    "YELP_BUSINESS_FILE = \"../data/yelp_academic_dataset_business.json\""
   ]
  },
  {
   "cell_type": "code",
   "execution_count": 3,
   "metadata": {
    "collapsed": false
   },
   "outputs": [],
   "source": [
    "graph = Graph()"
   ]
  },
  {
   "cell_type": "code",
   "execution_count": null,
   "metadata": {
    "collapsed": true
   },
   "outputs": [],
   "source": []
  },
  {
   "cell_type": "code",
   "execution_count": null,
   "metadata": {
    "collapsed": true
   },
   "outputs": [],
   "source": []
  },
  {
   "cell_type": "code",
   "execution_count": 4,
   "metadata": {
    "collapsed": false
   },
   "outputs": [
    {
     "data": {
      "text/plain": [
       "<py2neo.database.Cursor at 0x10de9aef0>"
      ]
     },
     "execution_count": 4,
     "metadata": {},
     "output_type": "execute_result"
    }
   ],
   "source": [
    "graph.run(\"CREATE CONSTRAINT ON (r:Review) ASSERT r.review_id IS UNIQUE;\")\n",
    "graph.run(\"CREATE CONSTRAINT ON (b:Business) ASSERT b.business_id IS UNIQUE;\")\n",
    "graph.run(\"CREATE CONSTRAINT ON (u:User) ASSERT u.user_id IS UNIQUE;\")\n",
    "graph.run(\"CREATE CONSTRAINT ON (c:Category) ASSERT c.name IS UNIQUE;\")"
   ]
  },
  {
   "cell_type": "code",
   "execution_count": 7,
   "metadata": {
    "collapsed": true
   },
   "outputs": [],
   "source": [
    "CYPHER_REVIEW_IMPORT = '''\n",
    "WITH {items} AS reviews\n",
    "UNWIND reviews AS review\n",
    "MERGE (b:Business {business_id: review.business_id})\n",
    "MERGE (u:User {user_id: review.user_id})\n",
    "MERGE (r:Review {review_id: review.review_id})\n",
    "ON CREATE SET r.text   = review.text,\n",
    "              r.type   = review.type,\n",
    "              r.date   = review.date, // FIXE: date format?\n",
    "              r.cool   = review.cool,\n",
    "              r.funny  = review.funny,\n",
    "              r.stars  = review.stars,\n",
    "              r.useful = review.useful\n",
    "MERGE (u)-[:WROTE]->(r)\n",
    "MERGE (r)-[:REVIEWS]->(b)\n",
    "'''\n",
    "\n",
    "CYPHER_BUSINESS_IMPORT = '''\n",
    "WITH {items} AS businesses\n",
    "UNWIND businesses AS business\n",
    "MERGE (b:Business {business_id: business.business_id})\n",
    "SET b.address = business.address,\n",
    "              b.lat     = business.latitude,\n",
    "              b.lon     = business.longitude,\n",
    "              b.name    = business.name,\n",
    "              b.city    = business.city,\n",
    "              b.postal_code = business.postal_code,\n",
    "              b.state = business.state,\n",
    "              b.review_count = business.review_count,\n",
    "              b.stars = business.stars,\n",
    "              // FIXME: inconsistent attributes data type\n",
    "              //b.bike_parking = business.attributes.BikeParking,\n",
    "              //b.accepts_bitcoin = business.attributes.BusinessAcceptsBitcoin,\n",
    "              //b.accepts_credit_cards = business.attributes.BusinessAcceptsCreditCards,\n",
    "              //b.garage_parking = business.attributes.BusinessParking.garage,\n",
    "              //b.street_parking = business.attributes.BusinessParking.street,\n",
    "              //b.validated_parking = business.attributes.BusinessParking.validated,\n",
    "              //b.lot_parking = business.attributes.BusinessParking.lot,\n",
    "              //b.valet_parking = business.attributes.BusinessParking.valet,\n",
    "              b.is_open = CASE WHEN business.open = 1 THEN True ELSE False END,\n",
    "              b.neighborhood = business.neighborhood\n",
    "WITH *\n",
    "UNWIND business.categories AS cat\n",
    "MERGE (c:Category {name: cat})\n",
    "MERGE (b)-[:IN_CATEGORY]->(c)\n",
    "'''\n",
    "\n",
    "CYPHER_USER_IMPORT = '''\n",
    "WITH {items} AS users\n",
    "UNWIND users AS user\n",
    "MERGE (u:User {user_id: user.user_id})\n",
    "SET u.name               = user.name,\n",
    "    u.type               = user.type,\n",
    "    u.useful             = user.useful,\n",
    "    u.yelping_since      = user.yelping_since, //FIXME: consistent date format\n",
    "    u.funny              = user.funny,\n",
    "    u.review_count       = user.review_count,\n",
    "    u.average_stars      = user.average_stars,\n",
    "    u.fans               = user.fans,\n",
    "    u.compliment_cool    = user.compliment_cool,\n",
    "    u.compliment_cute    = user.compliment_cute,\n",
    "    u.compliment_funny   = user.compliment_funny,\n",
    "    u.compliment_hot     = user.compliment_hot,\n",
    "    u.compliment_list    = user.compliment_list,\n",
    "    u.compliment_more    = user.compliment_more,\n",
    "    u.compliment_note    = user.compliment_note,\n",
    "    u.compliment_photos  = user.compliment_photos,\n",
    "    u.compliment_plain   = user.compliment_plain,\n",
    "    u.compliment_profile = user.compliment_profile,\n",
    "    u.compliment_writer  = user.compliment_writer,\n",
    "    u.cool               = user.cool\n",
    "WITH *\n",
    "UNWIND user.friends AS friend\n",
    "MERGE (f:User {user_id: friend})\n",
    "MERGE (u)-[:FRIENDS]->(f)\n",
    "'''\n",
    "\n",
    "CYPHER_TIP_IMPORT = '''\n",
    "WITH {items} AS tips\n",
    "UNWIND tips AS tip\n",
    "MERGE (u:User {user_id: tip.user_id})\n",
    "MERGE (b:Business {business_id: tip.business_id})\n",
    "CREATE (u)-[t:TIP]->(b)\n",
    "SET t.date  = tip.date, // FIXME: consistent date format\n",
    "    t.text  = tip.text,\n",
    "    t.likes = tip.likes,\n",
    "    t.type  = tip.type\n",
    "'''\n",
    "\n",
    "CYPHER_CHECKIN_IMPORT = '''\n",
    "#TODO: WRITE ME\n",
    "'''"
   ]
  },
  {
   "cell_type": "code",
   "execution_count": null,
   "metadata": {
    "collapsed": true
   },
   "outputs": [],
   "source": []
  },
  {
   "cell_type": "code",
   "execution_count": null,
   "metadata": {
    "collapsed": true
   },
   "outputs": [],
   "source": []
  },
  {
   "cell_type": "code",
   "execution_count": null,
   "metadata": {
    "collapsed": false
   },
   "outputs": [],
   "source": [
    "#TODO: iterate file,cypher maps\n",
    "parts = [\n",
    "    #{'datafile': YELP_REVIEW_FILE, 'cypher': CYPHER_REVIEW_IMPORT},\n",
    "    {'datafile': YELP_BUSINESS_FILE, 'cypher': CYPHER_BUSINESS_IMPORT},\n",
    "    {'datafile': YELP_USER_FILE, 'cypher': CYPHER_USER_IMPORT},\n",
    "    {'datafile': YELP_TIP_FILE, 'cypher': CYPHER_TIP_IMPORT},\n",
    "    #{'datafile': YELP_CHECKIN_FILE, 'cypher': CYPHER_CHECKIN_IMPORT}\n",
    "]\n",
    "\n",
    "for part in parts:\n",
    "    with open(part['datafile'], \"r\") as file:\n",
    "        items = []\n",
    "        count = 0\n",
    "        for line in file:\n",
    "            items.append(json.loads(line))\n",
    "            count +=1\n",
    "            if count > 20000:\n",
    "                # WRITE TO GRAPH\n",
    "                graph.run(part['cypher'], parameters={'items': items})\n",
    "                items = []\n",
    "                count = 0"
   ]
  },
  {
   "cell_type": "code",
   "execution_count": null,
   "metadata": {
    "collapsed": false
   },
   "outputs": [],
   "source": []
  },
  {
   "cell_type": "code",
   "execution_count": null,
   "metadata": {
    "collapsed": false
   },
   "outputs": [],
   "source": [
    "\n"
   ]
  },
  {
   "cell_type": "code",
   "execution_count": null,
   "metadata": {
    "collapsed": false
   },
   "outputs": [],
   "source": []
  },
  {
   "cell_type": "code",
   "execution_count": null,
   "metadata": {
    "collapsed": true
   },
   "outputs": [],
   "source": []
  },
  {
   "cell_type": "code",
   "execution_count": null,
   "metadata": {
    "collapsed": true
   },
   "outputs": [],
   "source": []
  },
  {
   "cell_type": "code",
   "execution_count": 18,
   "metadata": {
    "collapsed": false
   },
   "outputs": [
    {
     "data": {
      "text/plain": [
       "[{'business_id': '7KPBkxAOEtb3QeIL9PEErg',\n",
       "  'time': ['Fri-0:2',\n",
       "   'Sat-0:1',\n",
       "   'Sun-0:1',\n",
       "   'Wed-0:2',\n",
       "   'Sat-1:2',\n",
       "   'Thu-1:1',\n",
       "   'Wed-1:1',\n",
       "   'Sat-2:1',\n",
       "   'Sun-2:2',\n",
       "   'Thu-2:1',\n",
       "   'Wed-2:1',\n",
       "   'Fri-3:1',\n",
       "   'Sun-3:3',\n",
       "   'Thu-4:1',\n",
       "   'Tue-4:1',\n",
       "   'Sun-6:1',\n",
       "   'Wed-6:1',\n",
       "   'Fri-10:1',\n",
       "   'Sat-10:1',\n",
       "   'Mon-11:1',\n",
       "   'Wed-11:2',\n",
       "   'Mon-12:1',\n",
       "   'Sat-12:1',\n",
       "   'Tue-12:1',\n",
       "   'Sat-13:2',\n",
       "   'Thu-13:1',\n",
       "   'Tue-13:2',\n",
       "   'Wed-13:2',\n",
       "   'Fri-14:2',\n",
       "   'Sat-14:1',\n",
       "   'Wed-14:1',\n",
       "   'Fri-15:1',\n",
       "   'Sat-15:1',\n",
       "   'Thu-15:1',\n",
       "   'Tue-15:1',\n",
       "   'Fri-16:1',\n",
       "   'Sat-16:2',\n",
       "   'Sun-16:1',\n",
       "   'Tue-16:1',\n",
       "   'Sat-17:3',\n",
       "   'Sun-17:1',\n",
       "   'Fri-18:1',\n",
       "   'Mon-18:1',\n",
       "   'Sat-18:2',\n",
       "   'Sun-18:1',\n",
       "   'Tue-18:2',\n",
       "   'Wed-18:1',\n",
       "   'Fri-19:2',\n",
       "   'Mon-19:1',\n",
       "   'Sun-19:2',\n",
       "   'Thu-19:1',\n",
       "   'Wed-19:1',\n",
       "   'Mon-20:1',\n",
       "   'Sun-20:5',\n",
       "   'Thu-20:1',\n",
       "   'Tue-20:1',\n",
       "   'Wed-20:2',\n",
       "   'Fri-21:2',\n",
       "   'Sun-21:1',\n",
       "   'Thu-21:4',\n",
       "   'Tue-21:1',\n",
       "   'Wed-21:1',\n",
       "   'Fri-22:1',\n",
       "   'Thu-22:1',\n",
       "   'Fri-23:1',\n",
       "   'Mon-23:1',\n",
       "   'Sat-23:3',\n",
       "   'Sun-23:1',\n",
       "   'Thu-23:2',\n",
       "   'Tue-23:1'],\n",
       "  'type': 'checkin'},\n",
       " {'business_id': 'kREVIrSBbtqBhIYkTccQUg',\n",
       "  'time': ['Mon-13:1',\n",
       "   'Thu-13:1',\n",
       "   'Sat-16:1',\n",
       "   'Wed-17:1',\n",
       "   'Sun-19:1',\n",
       "   'Thu-20:1',\n",
       "   'Sat-21:1'],\n",
       "  'type': 'checkin'}]"
      ]
     },
     "execution_count": 18,
     "metadata": {},
     "output_type": "execute_result"
    }
   ],
   "source": [
    "checkins"
   ]
  },
  {
   "cell_type": "code",
   "execution_count": null,
   "metadata": {
    "collapsed": true
   },
   "outputs": [],
   "source": []
  }
 ],
 "metadata": {
  "kernelspec": {
   "display_name": "Python 3",
   "language": "python",
   "name": "python3"
  },
  "language_info": {
   "codemirror_mode": {
    "name": "ipython",
    "version": 3
   },
   "file_extension": ".py",
   "mimetype": "text/x-python",
   "name": "python",
   "nbconvert_exporter": "python",
   "pygments_lexer": "ipython3",
   "version": "3.6.0"
  }
 },
 "nbformat": 4,
 "nbformat_minor": 2
}
